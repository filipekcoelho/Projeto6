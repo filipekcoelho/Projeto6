{
 "cells": [
  {
   "cell_type": "markdown",
   "id": "a97157ef-8da8-45c7-a1fc-6ceb80b43d10",
   "metadata": {},
   "source": [
    "# Módulo proc\n",
    "\n",
    "A página onde será testado é:\n",
    "\n",
    "[pagina de teste](http://pythonscraping.com/pages/page1.html)"
   ]
  },
  {
   "cell_type": "markdown",
   "id": "7161061b-59a7-4183-8823-c86e7a2ab6f1",
   "metadata": {},
   "source": [
    "## Função leitor_web(endereco:str) -> str"
   ]
  },
  {
   "cell_type": "code",
   "execution_count": 1,
   "id": "d68f233d-d234-4da2-97b8-76ed7d6f818e",
   "metadata": {},
   "outputs": [],
   "source": [
    "# Função leitor_web\n",
    "\n",
    "import requests\n",
    "def leitor_web(endereco_web: str) -> str:\n",
    "    pagina = requests.get(endereco_web)\n",
    "    return pagina.text\n",
    "    "
   ]
  },
  {
   "cell_type": "code",
   "execution_count": 6,
   "id": "3690f87c-63f3-4120-a643-87ffc56a4f7c",
   "metadata": {},
   "outputs": [
    {
     "name": "stdout",
     "output_type": "stream",
     "text": [
      "<html>\n",
      "<head>\n",
      "<title>A Useful Page</title>\n",
      "</head>\n",
      "<body>\n",
      "<h1>An Interesting Title</h1>\n",
      "<div>\n",
      "Lorem ipsum dolor sit amet, consectetur adipisicing elit, sed do eiusmod tempor incididunt ut labore et dolore magna aliqua. Ut enim ad minim veniam, quis nostrud exercitation ullamco laboris nisi ut aliquip ex ea commodo consequat. Duis aute irure dolor in reprehenderit in voluptate velit esse cillum dolore eu fugiat nulla pariatur. Excepteur sint occaecat cupidatat non proident, sunt in culpa qui officia deserunt mollit anim id est laborum.\n",
      "</div>\n",
      "</body>\n",
      "</html>\n",
      "\n"
     ]
    }
   ],
   "source": [
    "pagina1 = leitor_web(\"http://pythonscraping.com/pages/page1.html\")\n",
    "\n",
    "print(pagina1)"
   ]
  },
  {
   "cell_type": "markdown",
   "id": "98327b6e-9556-4a75-a628-ac3133b99758",
   "metadata": {},
   "source": [
    "## Função extractor(pagina_web: str, tag:str) -> str:"
   ]
  },
  {
   "cell_type": "code",
   "execution_count": 8,
   "id": "414a79a3-f6fb-4381-bdc6-29a38518b795",
   "metadata": {},
   "outputs": [],
   "source": [
    "# função extrator(pagina_web:str, tag: str) -> str\n",
    "\n",
    "from bs4 import BeautifulSoup\n",
    "def extrator(pagina_web: str, tag: str) -> str:\n",
    "    pass"
   ]
  },
  {
   "cell_type": "code",
   "execution_count": 10,
   "id": "be2a6b9b-4a23-4f4f-88ba-7bd1750c9414",
   "metadata": {},
   "outputs": [],
   "source": [
    "soup = BeautifulSoup(pagina1, 'html.parser')"
   ]
  },
  {
   "cell_type": "code",
   "execution_count": 11,
   "id": "9443ffb0-ecde-49ff-bafe-f572e2fb8664",
   "metadata": {},
   "outputs": [
    {
     "name": "stdout",
     "output_type": "stream",
     "text": [
      "<title>A Useful Page</title>\n"
     ]
    }
   ],
   "source": [
    "print(soup.title)"
   ]
  },
  {
   "cell_type": "code",
   "execution_count": 60,
   "id": "23d9293b-af72-46b9-a1fa-d3bef675570b",
   "metadata": {},
   "outputs": [
    {
     "name": "stdout",
     "output_type": "stream",
     "text": [
      "None\n"
     ]
    }
   ],
   "source": [
    "print(soup.p)"
   ]
  },
  {
   "cell_type": "code",
   "execution_count": 14,
   "id": "e48ffcfa-47d8-42af-9a51-49342e735fd1",
   "metadata": {},
   "outputs": [],
   "source": [
    "#print(soup.body)"
   ]
  },
  {
   "cell_type": "code",
   "execution_count": 68,
   "id": "1dccf25b-13bf-4680-8213-af55bf94b8e9",
   "metadata": {},
   "outputs": [
    {
     "data": {
      "text/plain": [
       "<title>A Useful Page</title>"
      ]
     },
     "execution_count": 68,
     "metadata": {},
     "output_type": "execute_result"
    }
   ],
   "source": [
    "from bs4 import BeautifulSoup\n",
    "def extrator(pagina_web: str, tag: str) -> BeautifulSoup:\n",
    "    soup = BeautifulSoup(pagina_web, 'html.parser')\n",
    "    return soup.find(tag)\n",
    "\n",
    "extrator(pagina1, 'title')"
   ]
  },
  {
   "cell_type": "code",
   "execution_count": null,
   "id": "5f8bee37-2138-4d1f-a84c-7df1f34304a1",
   "metadata": {},
   "outputs": [],
   "source": []
  }
 ],
 "metadata": {
  "kernelspec": {
   "display_name": "Python 3 (ipykernel)",
   "language": "python",
   "name": "python3"
  },
  "language_info": {
   "codemirror_mode": {
    "name": "ipython",
    "version": 3
   },
   "file_extension": ".py",
   "mimetype": "text/x-python",
   "name": "python",
   "nbconvert_exporter": "python",
   "pygments_lexer": "ipython3",
   "version": "3.10.9"
  }
 },
 "nbformat": 4,
 "nbformat_minor": 5
}
